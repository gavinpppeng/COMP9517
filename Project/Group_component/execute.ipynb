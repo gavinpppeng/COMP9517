{
 "cells": [
  {
   "cell_type": "code",
   "execution_count": 2,
   "metadata": {},
   "outputs": [],
   "source": [
    "from tasks import *\n",
    "import cv2"
   ]
  },
  {
   "cell_type": "code",
   "execution_count": 3,
   "metadata": {},
   "outputs": [],
   "source": [
    "#file name to numeric\n",
    "def name_to_int(name):\n",
    "    name = name[:-4]\n",
    "    return int(name)\n",
    "#numeric to file name\n",
    "def int_to_name(digit):\n",
    "    digit = str(digit)\n",
    "    i = 6 - len(digit)\n",
    "    while i > 0:\n",
    "        digit = '0' + digit\n",
    "        i -= 1\n",
    "    return digit + '.jpg'"
   ]
  },
  {
   "cell_type": "code",
   "execution_count": 4,
   "metadata": {},
   "outputs": [],
   "source": [
    "#directory of original images\n",
    "directory1 = 'output1/'\n"
   ]
  },
  {
   "cell_type": "code",
   "execution_count": 5,
   "metadata": {},
   "outputs": [],
   "source": [
    "Task1 = task1()\n",
    "detected_img = Task1.get_img()"
   ]
  },
  {
   "cell_type": "markdown",
   "metadata": {},
   "source": [
    "# execute this after task1a(this will be used for other tasks)"
   ]
  },
  {
   "cell_type": "code",
   "execution_count": 7,
   "metadata": {},
   "outputs": [],
   "source": [
    "#execute this after task1a\n",
    "\n",
    "#image name to image array\n",
    "img_array = {}\n",
    "for (i,t) in detected_img:\n",
    "    img_array[i] = t\n",
    "#counting the boxes in each image\n",
    "num_people = {}\n",
    "for (i,t) in detected_img:\n",
    "    num_people[i] = len(t[1])  "
   ]
  },
  {
   "cell_type": "code",
   "execution_count": 6,
   "metadata": {},
   "outputs": [],
   "source": [
    "#task1b\n",
    "directory2 = 'output1b/'\n",
    "#draw path\n",
    "#initialize the tracker\n",
    "track = tracker()\n",
    "for i in range(1, 796):\n",
    "    name = int_to_name(i)\n",
    "    img = os.path.join(directory1, name)\n",
    "    img = cv2.imread(img)\n",
    "    track.update(img_array[name][1])\n",
    "    for e in list(track.object.values()):\n",
    "        #draw centroid\n",
    "        img = cv2.circle(img, tuple(e[-1]), 1, (0, 0, 255), 10)\n",
    "        #draw path of last 10 frames\n",
    "        if len(e) < 10 and len(e) > 1:\n",
    "            for i in range(1, len(e)):\n",
    "                img = cv2.line(img, tuple(e[i - 1]), tuple(e[i]), (0, 0, 255), 1, 4)\n",
    "        if len(e) >= 10:\n",
    "            for i in range(len(e) - 10, len(e)):\n",
    "                img = cv2.line(img, tuple(e[i - 1]), tuple(e[i]), (0, 0, 255), 1, 4)\n",
    "    #plt.imsave(fname = directory2 + name, arr = cv2.cvtColor(img, cv2.COLOR_BGR2RGB))\n",
    "    cv2.imwrite(directory2 + name, img)"
   ]
  },
  {
   "cell_type": "code",
   "execution_count": 20,
   "metadata": {},
   "outputs": [],
   "source": [
    "#task1c\n",
    "directory3 = 'output1c/'\n",
    "track = tracker(max_disappear = 5)\n",
    "for i in range(1, 796):\n",
    "    name = int_to_name(i)\n",
    "    img = os.path.join(directory1, name)\n",
    "    img = cv2.imread(img)\n",
    "    track.update(img_array[name][1])\n",
    "    track.boxes = num_people[name]   \n",
    "    #print(track.count)\n",
    "    count = track.boxes\n",
    "    #if there's no disappeared object then use number of bounding box at this frame as count\n",
    "    #other wise use self.count\n",
    "    for e in track.object_disappear.values():\n",
    "        if e:\n",
    "            count = track.count\n",
    "    #if use bounding box as count then update self.count to this number\n",
    "    if count != track.count:\n",
    "        track.count = count\n",
    "    cv2.putText(img, 'num of people:' + str(count), (50, 50), cv2.FONT_HERSHEY_SIMPLEX,  \n",
    "                   1, (0, 0, 255), 1, cv2.LINE_AA)\n",
    "    #plt.imsave(fname = directory2 + name, arr = cv2.cvtColor(img, cv2.COLOR_BGR2RGB))\n",
    "    cv2.imwrite(directory3 + name, img)"
   ]
  },
  {
   "cell_type": "code",
   "execution_count": 9,
   "metadata": {},
   "outputs": [],
   "source": [
    "#task2\n",
    "directory4 = 'output2/'\n",
    "directory2 = 'output1b/'\n",
    "track = tracker(max_disappear = 1)\n",
    "#draw task2 box\n",
    "# if want to change the box, change the track.draw_box(left-top_x, left-top_y, right-bottom_x, right-bottom_y)\n",
    "#(200, 300) means the  bounding boxes of left-top and the (300, 400) means the bounding boxes of right-bottom.\n",
    "track.draw_box(200, 300, 300, 400)\n",
    "for i in range(1, 796):\n",
    "    name = int_to_name(i)\n",
    "    img = os.path.join(directory2, name)\n",
    "    img = cv2.imread(img)\n",
    "    track.update(img_array[name][1])\n",
    "    if track.enter:\n",
    "        cv2.putText(img, 'entering the box:' + str(track.enter), (50, 50), cv2.FONT_HERSHEY_SIMPLEX,  \n",
    "                   1, (0, 0, 255), 1, cv2.LINE_AA)\n",
    "    if track.leaving:\n",
    "        cv2.putText(img, 'leaving the box:' + str(track.leaving), (50, 100), cv2.FONT_HERSHEY_SIMPLEX,  \n",
    "                   1, (0, 0, 255), 1, cv2.LINE_AA)\n",
    "    if track.drawed_box:\n",
    "        x1,y1,x2,y2 = track.drawed_box\n",
    "        cv2.rectangle(img, (x1, y1), (x2, y2), (0, 0, 255), 2)\n",
    "    # plt.imsave(fname = directory2 + name, arr = cv2.cvtColor(img, cv2.COLOR_BGR2RGB))\n",
    "    cv2.imwrite(directory4 + name, img)"
   ]
  },
  {
   "cell_type": "code",
   "execution_count": 10,
   "metadata": {},
   "outputs": [],
   "source": [
    "#task3\n",
    "directory5 = 'output3/'\n",
    "#draw group\n",
    "track = tracker()\n",
    "track_count = tracker(max_disappear = 5)\n",
    "for i in range(1, 796):\n",
    "    name = int_to_name(i)\n",
    "    img = os.path.join(directory1, name)\n",
    "    img = cv2.imread(img)\n",
    "    track.update(img_array[name][1])\n",
    "    track_count.update(img_array[name][1])\n",
    "    track.update_group(img_array[name][1])\n",
    "    track_count.boxes = num_people[name]\n",
    "    count = track_count.boxes\n",
    "    #if there's no disappeared object then use number of bounding box at this frame as count\n",
    "    #other wise use self.count\n",
    "    for e in track_count.object_disappear.values():\n",
    "        if e:\n",
    "            count = track_count.count\n",
    "    #if use bounding box as count then update self.count to this number\n",
    "    if count != track_count.count:\n",
    "        track_count.count = count\n",
    "    num_in_group = 0\n",
    "    in_group = set()\n",
    "    for e in list(track.group.values()):\n",
    "        img = cv2.circle(img, tuple(e['centroid'][-1]), 1, (0, 255, 255), 10)\n",
    "        x1,y1,x2,y2 = e['box']\n",
    "        img = cv2.rectangle(img, (x1, y1), (x2, y2), (0,255,255), 2)\n",
    "        if len(e['objects']) == 1:\n",
    "            num_in_group += 1\n",
    "        for o in e['objects']:\n",
    "            in_group.add(o)\n",
    "    num_in_group += len(in_group)\n",
    "    alone = count - num_in_group\n",
    "    if alone < 0:\n",
    "        alone = 0\n",
    "    cv2.putText(img, 'walk alone:' + str(alone), (50, 50), cv2.FONT_HERSHEY_SIMPLEX,  \n",
    "                   1, (0, 0, 255), 1, cv2.LINE_AA)\n",
    "    cv2.putText(img, 'walk in group:' + str(num_in_group), (50, 100), cv2.FONT_HERSHEY_SIMPLEX,  \n",
    "                   1, (0, 0, 255), 1, cv2.LINE_AA)\n",
    "    # plt.imsave(fname = directory2 + name, arr = cv2.cvtColor(img, cv2.COLOR_BGR2RGB))\n",
    "    cv2.imwrite(directory5 + name, img)"
   ]
  },
  {
   "cell_type": "code",
   "execution_count": 11,
   "metadata": {},
   "outputs": [
    {
     "name": "stdout",
     "output_type": "stream",
     "text": [
      "Precision is 0.894\n",
      "Recall is 0.901\n",
      "F1 value is 0.898\n",
      "Accuracy is 0.898\n"
     ]
    }
   ],
   "source": [
    "#evaluation Tracking\n",
    "import os\n",
    "f = open('gt.txt', 'r')\n",
    "result = list()\n",
    "for line in f.readlines():                          \n",
    "    line = line.strip()                             \n",
    "    if not len(line):      \n",
    "        continue    \n",
    "    lines = list(line.split(\",\"))\n",
    "    tracker_point = list()\n",
    "    tracker_point.append(int(lines[0]))\n",
    "    x = float(lines[2])\n",
    "    y = float(lines[3])\n",
    "    w, h = float(lines[4]), float(lines[5])\n",
    "    centroids = (int(x + w/2), int(y + h/2))\n",
    "    tracker_point.append(centroids)\n",
    "    result.append(tracker_point)\n",
    "\n",
    "#initialize the tracker\n",
    "track = tracker()\n",
    "TP = 0\n",
    "FP = 0\n",
    "FN = 0\n",
    "total = 0\n",
    "correct = 0\n",
    "for i in range(1, 796):\n",
    "    name = int_to_name(i)\n",
    "    img = os.path.join(directory1, name)\n",
    "    img = cv2.imread(img)\n",
    "    track.update(img_array[name][1])\n",
    "    # print(i)\n",
    "    benchmark = list()\n",
    "    \n",
    "    for item in result:\n",
    "        if i == item[0]:\n",
    "            benchmark.append(item[1])\n",
    "    eval_tracking = list()\n",
    "    for e in list(track.object.values()):\n",
    "        eval_tracking.append(e[-1])\n",
    "\n",
    "    # print(eval_tracking)               \n",
    "    TP, FP, FN, correct, total = eval_task1(benchmark, eval_tracking, TP, FP, FN, correct, total)\n",
    "evaluation(TP, FP, FN, total, correct)"
   ]
  },
  {
   "cell_type": "code",
   "execution_count": null,
   "metadata": {},
   "outputs": [],
   "source": []
  },
  {
   "cell_type": "code",
   "execution_count": null,
   "metadata": {},
   "outputs": [],
   "source": []
  }
 ],
 "metadata": {
  "kernelspec": {
   "display_name": "Python 3",
   "language": "python",
   "name": "python3"
  },
  "language_info": {
   "codemirror_mode": {
    "name": "ipython",
    "version": 3
   },
   "file_extension": ".py",
   "mimetype": "text/x-python",
   "name": "python",
   "nbconvert_exporter": "python",
   "pygments_lexer": "ipython3",
   "version": "3.7.0"
  }
 },
 "nbformat": 4,
 "nbformat_minor": 2
}
